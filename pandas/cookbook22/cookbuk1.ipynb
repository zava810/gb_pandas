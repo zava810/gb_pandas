{
 "cells": [
  {
   "cell_type": "markdown",
   "id": "7af2ab9d",
   "metadata": {},
   "source": [
    "<a href=\"https://pandas.pydata.org/docs/user_guide/cookbook.html#cookbook-selection\">kukbuk</a>"
   ]
  },
  {
   "cell_type": "code",
   "execution_count": 9,
   "id": "f47aac3d",
   "metadata": {},
   "outputs": [
    {
     "name": "stdout",
     "output_type": "stream",
     "text": [
      "   AAA  BBB  CCC\n",
      "0    4   10  100\n",
      "1    5   20   50\n",
      "2    6   30  -30\n",
      "3    7   40  -50\n"
     ]
    }
   ],
   "source": [
    "import pandas as pd\n",
    "import numpy as np\n",
    "df = pd.DataFrame({\"AAA\": [4, 5, 6, 7], \"BBB\": [10, 20, 30, 40], \"CCC\": [100, 50, -30, -50]})\n",
    "print(df)"
   ]
  },
  {
   "cell_type": "code",
   "execution_count": 10,
   "id": "d3a1d2be",
   "metadata": {},
   "outputs": [
    {
     "name": "stdout",
     "output_type": "stream",
     "text": [
      "   AAA  BBB  CCC\n",
      "0    4   10  100\n",
      "1    5   -1   50\n",
      "2    6   -1  -30\n",
      "3    7   -1  -50\n"
     ]
    }
   ],
   "source": [
    "df.loc[df.AAA >= 5, \"BBB\"] = -1\n",
    "print(df)"
   ]
  },
  {
   "cell_type": "code",
   "execution_count": 11,
   "id": "92cc55f8",
   "metadata": {},
   "outputs": [
    {
     "name": "stdout",
     "output_type": "stream",
     "text": [
      "   AAA  BBB  CCC\n",
      "0    4   10  100\n",
      "1    5  555  555\n",
      "2    6  555  555\n",
      "3    7  555  555\n"
     ]
    }
   ],
   "source": [
    "df.loc[df.AAA >= 5, [\"BBB\", \"CCC\"]] = 555\n",
    "print(df)"
   ]
  },
  {
   "cell_type": "code",
   "execution_count": 12,
   "id": "9e15fe1e",
   "metadata": {},
   "outputs": [
    {
     "name": "stdout",
     "output_type": "stream",
     "text": [
      "   AAA   BBB   CCC\n",
      "0    4  2000  2000\n",
      "1    5   555   555\n",
      "2    6   555   555\n",
      "3    7   555   555\n"
     ]
    }
   ],
   "source": [
    "df.loc[df.AAA < 5, [\"BBB\", \"CCC\"]] = 2000\n",
    "print(df)"
   ]
  },
  {
   "cell_type": "code",
   "execution_count": 13,
   "id": "7eecba2c",
   "metadata": {},
   "outputs": [
    {
     "name": "stdout",
     "output_type": "stream",
     "text": [
      "    AAA    BBB    CCC\n",
      "0  True  False   True\n",
      "1  True  False  False\n",
      "2  True  False   True\n",
      "3  True  False  False\n"
     ]
    }
   ],
   "source": [
    "df_mask = pd.DataFrame({\"AAA\": [True] * 4, \"BBB\": [False] * 4, \"CCC\": [True, False] * 2})\n",
    "print(df_mask)"
   ]
  },
  {
   "cell_type": "code",
   "execution_count": 15,
   "id": "65facc60",
   "metadata": {},
   "outputs": [
    {
     "name": "stdout",
     "output_type": "stream",
     "text": [
      "   AAA   BBB   CCC\n",
      "0    4 -1000  2000\n",
      "1    5 -1000 -1000\n",
      "2    6 -1000   555\n",
      "3    7 -1000 -1000\n"
     ]
    }
   ],
   "source": [
    "df_masked = df.where(df_mask, -1000)\n",
    "print(df_masked)"
   ]
  },
  {
   "cell_type": "code",
   "execution_count": 16,
   "id": "b7a9605c",
   "metadata": {},
   "outputs": [
    {
     "name": "stdout",
     "output_type": "stream",
     "text": [
      "   AAA  BBB  CCC\n",
      "0    4   10  100\n",
      "1    5   20   50\n",
      "2    6   30  -30\n",
      "3    7   40  -50\n"
     ]
    }
   ],
   "source": [
    "df = pd.DataFrame({\"AAA\": [4, 5, 6, 7], \"BBB\": [10, 20, 30, 40], \"CCC\": [100, 50, -30, -50]})\n",
    "print(df)"
   ]
  },
  {
   "cell_type": "code",
   "execution_count": 17,
   "id": "2eba60a0",
   "metadata": {},
   "outputs": [
    {
     "name": "stdout",
     "output_type": "stream",
     "text": [
      "   AAA  BBB  CCC logic\n",
      "0    4   10  100   low\n",
      "1    5   20   50   low\n",
      "2    6   30  -30  high\n",
      "3    7   40  -50  high\n"
     ]
    }
   ],
   "source": [
    "df[\"logic\"] = np.where(df[\"AAA\"] > 5, \"high\", \"low\")\n",
    "print(df)"
   ]
  },
  {
   "cell_type": "code",
   "execution_count": null,
   "id": "3c578728",
   "metadata": {},
   "outputs": [],
   "source": []
  }
 ],
 "metadata": {
  "kernelspec": {
   "display_name": "Python 3 (ipykernel)",
   "language": "python",
   "name": "python3"
  },
  "language_info": {
   "codemirror_mode": {
    "name": "ipython",
    "version": 3
   },
   "file_extension": ".py",
   "mimetype": "text/x-python",
   "name": "python",
   "nbconvert_exporter": "python",
   "pygments_lexer": "ipython3",
   "version": "3.9.13"
  }
 },
 "nbformat": 4,
 "nbformat_minor": 5
}
